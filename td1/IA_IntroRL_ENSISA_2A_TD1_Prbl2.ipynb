{
 "cells": [
  {
   "cell_type": "markdown",
   "metadata": {
    "id": "JIuzZH7gj7Yu"
   },
   "source": [
    "\n",
    "\n",
    "> Import libraries to use\n",
    "\n"
   ]
  },
  {
   "cell_type": "code",
   "execution_count": 8,
   "metadata": {
    "id": "1n-L9pacjmBA"
   },
   "outputs": [],
   "source": [
    "import numpy as np"
   ]
  },
  {
   "cell_type": "markdown",
   "metadata": {
    "id": "i38qZPSHmDVs"
   },
   "source": [
    ">  # Introduction to numpy (Skip if you already are familiar)"
   ]
  },
  {
   "cell_type": "markdown",
   "metadata": {
    "id": "-wFkLk1kmeIn"
   },
   "source": [
    ">> Creating a 1D array"
   ]
  },
  {
   "cell_type": "code",
   "execution_count": 4,
   "metadata": {
    "colab": {
     "base_uri": "https://localhost:8080/"
    },
    "id": "E-o1XD0Qmgxk",
    "outputId": "ae99652c-a3e9-4532-8e0d-dc10a4e5bae9"
   },
   "outputs": [
    {
     "name": "stdout",
     "output_type": "stream",
     "text": [
      "[1 2 3 4]\n"
     ]
    }
   ],
   "source": [
    "a = np.array([1,2,3,4])\n",
    "print(a)"
   ]
  },
  {
   "cell_type": "markdown",
   "metadata": {
    "id": "DWh4Q90Gmh32"
   },
   "source": [
    ">> Creating a 2D array\n"
   ]
  },
  {
   "cell_type": "code",
   "execution_count": 5,
   "metadata": {
    "colab": {
     "base_uri": "https://localhost:8080/"
    },
    "id": "mOS0jF1AmjTX",
    "outputId": "c437971c-28dc-4f19-8106-d7662ff843d1"
   },
   "outputs": [
    {
     "name": "stdout",
     "output_type": "stream",
     "text": [
      "[[1 2]\n",
      " [3 4]]\n"
     ]
    }
   ],
   "source": [
    "a = np.array([[1,2],[3,4]])\n",
    "print(a)"
   ]
  },
  {
   "cell_type": "markdown",
   "metadata": {
    "id": "4Z_7BfvcmoPA"
   },
   "source": [
    ">> Creating an array full of zeros\n"
   ]
  },
  {
   "cell_type": "code",
   "execution_count": 6,
   "metadata": {
    "colab": {
     "base_uri": "https://localhost:8080/"
    },
    "id": "KdGvmJ7gmFrF",
    "outputId": "8f90f907-306d-454e-c822-56b750593dc7"
   },
   "outputs": [
    {
     "name": "stdout",
     "output_type": "stream",
     "text": [
      "[0. 0. 0. 0. 0. 0. 0. 0. 0. 0.]\n",
      "[[0. 0.]\n",
      " [0. 0.]\n",
      " [0. 0.]\n",
      " [0. 0.]\n",
      " [0. 0.]]\n"
     ]
    }
   ],
   "source": [
    "a = np.zeros(shape=(10))\n",
    "print(a)\n",
    "a = np.zeros(shape=(5,2))\n",
    "print(a)"
   ]
  },
  {
   "cell_type": "markdown",
   "metadata": {
    "id": "kV2byWmWmr9g"
   },
   "source": [
    ">> Infinity in numpy"
   ]
  },
  {
   "cell_type": "code",
   "execution_count": 7,
   "metadata": {
    "colab": {
     "base_uri": "https://localhost:8080/"
    },
    "id": "9SMPoECVmygc",
    "outputId": "411f4132-2437-49a0-955e-fd6d3bedb1d8"
   },
   "outputs": [
    {
     "name": "stdout",
     "output_type": "stream",
     "text": [
      "inf\n"
     ]
    }
   ],
   "source": [
    "print(np.inf)"
   ]
  },
  {
   "cell_type": "markdown",
   "metadata": {
    "id": "FCi8vs49mz44"
   },
   "source": [
    ">> Max and Argmax"
   ]
  },
  {
   "cell_type": "code",
   "execution_count": 13,
   "metadata": {
    "colab": {
     "base_uri": "https://localhost:8080/"
    },
    "id": "Ailb-V76nSqc",
    "outputId": "7a191f23-da1a-4792-e67a-afc2d3c8967f"
   },
   "outputs": [
    {
     "name": "stdout",
     "output_type": "stream",
     "text": [
      "4\n",
      "2\n"
     ]
    }
   ],
   "source": [
    "a = np.array([2,1,4,3])\n",
    "print(np.max(a))\n",
    "print(np.argmax(a))"
   ]
  },
  {
   "cell_type": "markdown",
   "metadata": {
    "id": "6XpkQzTfnXMU"
   },
   "source": [
    ">> From list to Numpy"
   ]
  },
  {
   "cell_type": "code",
   "execution_count": 9,
   "metadata": {
    "colab": {
     "base_uri": "https://localhost:8080/"
    },
    "id": "3wdFdBaOncQI",
    "outputId": "aed68558-66af-46fe-cdc0-209897dd0258"
   },
   "outputs": [
    {
     "name": "stdout",
     "output_type": "stream",
     "text": [
      "[1, 2, 3, 4]\n",
      "[1 2 3 4]\n"
     ]
    }
   ],
   "source": [
    "l = [1,2,3,4]\n",
    "print(l)\n",
    "print(np.asarray(l))"
   ]
  },
  {
   "cell_type": "markdown",
   "metadata": {
    "id": "PgNawY2LngKt"
   },
   "source": [
    ">> Random in numpy"
   ]
  },
  {
   "cell_type": "code",
   "execution_count": 14,
   "metadata": {
    "colab": {
     "base_uri": "https://localhost:8080/"
    },
    "id": "tyopXlWsnjK1",
    "outputId": "d1377378-1795-4951-8bb0-a73bc1c69934"
   },
   "outputs": [
    {
     "name": "stdout",
     "output_type": "stream",
     "text": [
      "[[7 1]\n",
      " [1 3]\n",
      " [1 3]\n",
      " [2 4]\n",
      " [1 8]]\n"
     ]
    }
   ],
   "source": [
    "# Array of Random integers ranging from 1 to 10 (with any size you want)\n",
    "a = np.random.randint(low=1, high=10, size=(5,2))\n",
    "print(a)\n",
    "\n",
    "# Array of random elements of a list with any size you want\n",
    "a = np.random.choice([0,1,2], size=(2,))"
   ]
  },
  {
   "cell_type": "markdown",
   "metadata": {
    "id": "abjqoNDSoAD6"
   },
   "source": [
    ">> Shapes in numpy"
   ]
  },
  {
   "cell_type": "code",
   "execution_count": 11,
   "metadata": {
    "colab": {
     "base_uri": "https://localhost:8080/"
    },
    "id": "vN2gUoZEoCbE",
    "outputId": "35d64447-a613-4933-f86a-df6a27d6ab28"
   },
   "outputs": [
    {
     "name": "stdout",
     "output_type": "stream",
     "text": [
      "(4, 2)\n",
      "[[3 3]\n",
      " [1 4]\n",
      " [4 4]\n",
      " [3 4]]\n",
      "(8, 1)\n",
      "[[3]\n",
      " [3]\n",
      " [1]\n",
      " [4]\n",
      " [4]\n",
      " [4]\n",
      " [3]\n",
      " [4]]\n"
     ]
    }
   ],
   "source": [
    "a = np.random.randint(low=1, high=5, size=(4,2))\n",
    "print(a.shape)\n",
    "print(a)\n",
    "\n",
    "# Reshape a to a vector of shape = (8,1)\n",
    "a = a.reshape((8,1))\n",
    "print(a.shape)\n",
    "print(a)"
   ]
  },
  {
   "cell_type": "markdown",
   "metadata": {
    "id": "ekYrPhAGkAfM"
   },
   "source": [
    "# Pre-defined utilities"
   ]
  },
  {
   "cell_type": "code",
   "execution_count": 10,
   "metadata": {
    "id": "3kXEezQ_jnoP"
   },
   "outputs": [],
   "source": [
    "\n",
    "int_to_char = {\n",
    "    0 : 'u',\n",
    "    1 : 'r',\n",
    "    2 : 'd',\n",
    "    3 : 'l'\n",
    "}\n",
    "\n",
    "policy_one_step_look_ahead = {\n",
    "    0 : [-1,0],\n",
    "    1 : [0,1],\n",
    "    2 : [1,0],\n",
    "    3 : [0,-1]\n",
    "}\n",
    "\n",
    "def policy_int_to_char(pi,n):\n",
    "\n",
    "    pi_char = ['']\n",
    "\n",
    "    for i in range(n):\n",
    "        for j in range(n):\n",
    "\n",
    "            if i == 0 and j == 0 or i == n-1 and j == n-1:\n",
    "\n",
    "                continue\n",
    "\n",
    "            pi_char.append(int_to_char[pi[i,j]])\n",
    "\n",
    "    pi_char.append('')\n",
    "\n",
    "    return np.asarray(pi_char).reshape(n,n)"
   ]
  },
  {
   "cell_type": "markdown",
   "metadata": {
    "id": "3zlRobQekELk"
   },
   "source": [
    "# 1- Policy evaluation"
   ]
  },
  {
   "cell_type": "code",
   "execution_count": 12,
   "metadata": {
    "id": "N7_2lpTAkHAJ"
   },
   "outputs": [],
   "source": [
    "def policy_evaluation(n,pi,v,Gamma,threshhold):\n",
    "  \"\"\"\n",
    "    This function should return the value function that follows the policy pi.\n",
    "    Use the stopping criteria given in the problem statement.\n",
    "  \"\"\"\n",
    "  delta = 0\n",
    "  value_result = v.copy()\n",
    "  for i in range(n):\n",
    "      for j in range(n):\n",
    "          if (i == 0 and j == 0) or (i == n-1 and j == n-1):\n",
    "              continue\n",
    "          value_old = v[i, j]\n",
    "          action = pi[i, j]\n",
    "          new_i = i + policy_one_step_look_ahead[action][0]\n",
    "          new_j = j + policy_one_step_look_ahead[action][1]\n",
    "          if new_i < 0 or new_i >= n or new_j < 0 or new_j >= n:\n",
    "              new_i,new_j = i,j\n",
    "          reward = -1\n",
    "          value_result[i, j] = reward + Gamma * v[new_i, new_j]\n",
    "  return value_result"
   ]
  },
  {
   "cell_type": "markdown",
   "metadata": {
    "id": "id0Re9bnkWRP"
   },
   "source": [
    "# 2- Policy improvement"
   ]
  },
  {
   "cell_type": "code",
   "execution_count": 14,
   "metadata": {
    "id": "eC8zswV7kZPF"
   },
   "outputs": [],
   "source": [
    "def policy_improvement(n,pi,v,Gamma):\n",
    "  pi_result = np.zeros_like(pi)\n",
    "  stable = True\n",
    "  for i in range(n):\n",
    "      for j in range(n):\n",
    "          if (i == 0 and j == 0) or (i == n-1 and j == n-1):\n",
    "              continue\n",
    "          current_action = pi[i, j]\n",
    "          best_action = current_action\n",
    "          best_value = v[i, j]\n",
    "          for action in range(4):\n",
    "              next_i, next_j = i + policy_one_step_look_ahead[action][0], j + policy_one_step_look_ahead[action][1]\n",
    "              if next_i < 0 or next_i >= n or next_j < 0 or next_j >= n:\n",
    "                  next_i, next_j = i, j\n",
    "              potential_value = Gamma * v[next_i, next_j]\n",
    "              if potential_value > best_value:\n",
    "                  best_action = action\n",
    "                  best_value = potential_value\n",
    "\n",
    "          pi_result[i, j] = best_action\n",
    "          if best_action != current_action:\n",
    "              stable = False\n",
    "  return pi_result, stable"
   ]
  },
  {
   "cell_type": "markdown",
   "metadata": {
    "id": "1rJLFmZYk0I1"
   },
   "source": [
    "# 3- Policy Initialization"
   ]
  },
  {
   "cell_type": "code",
   "execution_count": 15,
   "metadata": {
    "id": "xpuOHJeIk2K_"
   },
   "outputs": [],
   "source": [
    "def policy_initialization(n):\n",
    "  pi = np.zeros(shape=(n, n))\n",
    "  for i in range(n):\n",
    "    for j in range(n):\n",
    "      if i == 0 and j == 0 or i == n - 1 and j == n - 1:\n",
    "        continue\n",
    "      pi[i, j] = int(np.random.choice([0, 1, 2, 3]))\n",
    "  return pi"
   ]
  },
  {
   "cell_type": "markdown",
   "metadata": {
    "id": "rfeVN5fQlBt8"
   },
   "source": [
    "# 4- Policy Iteration algorithm"
   ]
  },
  {
   "cell_type": "code",
   "execution_count": 6,
   "metadata": {
    "id": "g7hnjz0PlFD4"
   },
   "outputs": [],
   "source": [
    "def policy_iteration(n,Gamma,threshhold):\n",
    "    pi = policy_initialization(n=n)\n",
    "    v = np.zeros(shape=(n,n))\n",
    "    while True:\n",
    "        v = policy_evaluation(n=n,v=v,pi=pi,threshhold=threshhold,Gamma=Gamma)\n",
    "        pi , pi_stable = policy_improvement(n=n,pi=pi,v=v,Gamma=Gamma)\n",
    "        if pi_stable:\n",
    "            break\n",
    "    return pi , v"
   ]
  },
  {
   "cell_type": "markdown",
   "metadata": {
    "id": "8FvleqV5onq9"
   },
   "source": [
    "# Main Code to Test"
   ]
  },
  {
   "cell_type": "code",
   "execution_count": 16,
   "metadata": {
    "colab": {
     "base_uri": "https://localhost:8080/"
    },
    "id": "hntGpzW-jZk3",
    "outputId": "6e0de4eb-2568-4920-a5c7-adf65965a857"
   },
   "outputs": [
    {
     "name": "stdout",
     "output_type": "stream",
     "text": [
      "[[0. 3. 3. 2.]\n",
      " [0. 0. 0. 2.]\n",
      " [0. 0. 1. 2.]\n",
      " [0. 1. 1. 0.]]\n",
      "\n",
      "Gamma =  0.8\n",
      "[['' 'l' 'l' 'd']\n",
      " ['u' 'u' 'u' 'd']\n",
      " ['u' 'u' 'r' 'd']\n",
      " ['u' 'r' 'r' '']]\n",
      "\n",
      "\n",
      "[[ 0.   -1.   -1.8  -2.44]\n",
      " [-1.   -1.8  -2.44 -1.8 ]\n",
      " [-1.8  -2.44 -1.8  -1.  ]\n",
      " [-2.44 -1.8  -1.    0.  ]]\n",
      "[[0. 3. 3. 2.]\n",
      " [0. 0. 0. 2.]\n",
      " [0. 0. 1. 2.]\n",
      " [0. 1. 1. 0.]]\n",
      "\n",
      "Gamma =  0.9\n",
      "[['' 'l' 'l' 'd']\n",
      " ['u' 'u' 'u' 'd']\n",
      " ['u' 'u' 'r' 'd']\n",
      " ['u' 'r' 'r' '']]\n",
      "\n",
      "\n",
      "[[ 0.   -1.   -1.9  -2.71]\n",
      " [-1.   -1.9  -2.71 -1.9 ]\n",
      " [-1.9  -2.71 -1.9  -1.  ]\n",
      " [-2.71 -1.9  -1.    0.  ]]\n",
      "[[0. 3. 3. 2.]\n",
      " [0. 0. 0. 2.]\n",
      " [0. 0. 1. 2.]\n",
      " [0. 1. 1. 0.]]\n",
      "\n",
      "Gamma =  1\n",
      "[['' 'l' 'l' 'd']\n",
      " ['u' 'u' 'u' 'd']\n",
      " ['u' 'u' 'r' 'd']\n",
      " ['u' 'r' 'r' '']]\n",
      "\n",
      "\n",
      "[[ 0. -1. -2. -3.]\n",
      " [-1. -2. -3. -2.]\n",
      " [-2. -3. -2. -1.]\n",
      " [-3. -2. -1.  0.]]\n"
     ]
    }
   ],
   "source": [
    "n = 4\n",
    "\n",
    "Gamma = [0.8,0.9,1]\n",
    "\n",
    "threshhold = 1e-4\n",
    "\n",
    "for _gamma in Gamma:\n",
    "\n",
    "    pi , v = policy_iteration(n=n,Gamma=_gamma,threshhold=threshhold)\n",
    "\n",
    "    pi_char = policy_int_to_char(n=n,pi=pi)\n",
    "\n",
    "\n",
    "    print(pi)\n",
    "    print()\n",
    "    print(\"Gamma = \",_gamma)\n",
    "\n",
    "\n",
    "\n",
    "    print(pi_char)\n",
    "\n",
    "    print()\n",
    "    print()\n",
    "\n",
    "    print(v)\n"
   ]
  },
  {
   "cell_type": "code",
   "execution_count": null,
   "metadata": {},
   "outputs": [],
   "source": []
  }
 ],
 "metadata": {
  "colab": {
   "collapsed_sections": [
    "i38qZPSHmDVs",
    "id0Re9bnkWRP",
    "1rJLFmZYk0I1",
    "8FvleqV5onq9"
   ],
   "provenance": []
  },
  "kernelspec": {
   "display_name": "Python 3 (ipykernel)",
   "language": "python",
   "name": "python3"
  },
  "language_info": {
   "codemirror_mode": {
    "name": "ipython",
    "version": 3
   },
   "file_extension": ".py",
   "mimetype": "text/x-python",
   "name": "python",
   "nbconvert_exporter": "python",
   "pygments_lexer": "ipython3",
   "version": "3.11.7"
  }
 },
 "nbformat": 4,
 "nbformat_minor": 4
}
